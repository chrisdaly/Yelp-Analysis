{
 "cells": [
  {
   "cell_type": "markdown",
   "metadata": {},
   "source": [
    "# Natural Language Processing - Yelp Review Analysis"
   ]
  },
  {
   "cell_type": "markdown",
   "metadata": {},
   "source": [
    "This notebook uses a small subset of the data from Kaggle's [Yelp Business Rating Prediction](https://www.kaggle.com/c/yelp-recsys-2013) competition.\n",
    "\n",
    "**Description of the data:**\n",
    "\n",
    "- **`yelp.csv`** contains the dataset. It is stored in the repository (in the **`data`** directory), so there is no need to download anything from the Kaggle website.\n",
    "- Each observation (row) in this dataset is a review of a particular business by a particular user.\n",
    "- The **stars** column is the number of stars (1 through 5) assigned by the reviewer to the business. (Higher stars is better.) In other words, it is the rating of the business by the person who wrote the review.\n",
    "- The **text** column is the text of the review.\n",
    "\n",
    "**Goal:** Predict the star rating of a review using **only** the review text."
   ]
  },
  {
   "cell_type": "markdown",
   "metadata": {},
   "source": [
    "## Libraries"
   ]
  },
  {
   "cell_type": "code",
   "execution_count": 1,
   "metadata": {
    "collapsed": false
   },
   "outputs": [],
   "source": [
    "import pandas as pd\n",
    "import math\n",
    "import matplotlib.pyplot as plt\n",
    "import seaborn as sns\n",
    "import sys  \n",
    "\n",
    "from sklearn.cross_validation import train_test_split\n",
    "from sklearn.feature_extraction.text import CountVectorizer\n",
    "from sklearn.naive_bayes import MultinomialNB\n",
    "from sklearn import metrics\n",
    "from sklearn import preprocessing\n",
    "\n",
    "%matplotlib inline\n",
    "sns.set(color_codes=True)\n",
    "\n",
    "# ASCII errors in yelp docs.\n",
    "reload(sys)  \n",
    "sys.setdefaultencoding('utf8')"
   ]
  },
  {
   "cell_type": "markdown",
   "metadata": {},
   "source": [
    "## Loading the data"
   ]
  },
  {
   "cell_type": "code",
   "execution_count": 2,
   "metadata": {
    "collapsed": false
   },
   "outputs": [],
   "source": [
    "path = '../data/yelp.csv'\n",
    "df = pd.read_csv(path)"
   ]
  },
  {
   "cell_type": "markdown",
   "metadata": {},
   "source": [
    "## Exploration"
   ]
  },
  {
   "cell_type": "code",
   "execution_count": 3,
   "metadata": {
    "collapsed": false
   },
   "outputs": [
    {
     "data": {
      "text/plain": [
       "(10000, 10)"
      ]
     },
     "execution_count": 3,
     "metadata": {},
     "output_type": "execute_result"
    }
   ],
   "source": [
    "df.shape"
   ]
  },
  {
   "cell_type": "code",
   "execution_count": 4,
   "metadata": {
    "collapsed": false
   },
   "outputs": [
    {
     "data": {
      "text/html": [
       "<div style=\"max-height:1000px;max-width:1500px;overflow:auto;\">\n",
       "<table border=\"1\" class=\"dataframe\">\n",
       "  <thead>\n",
       "    <tr style=\"text-align: right;\">\n",
       "      <th></th>\n",
       "      <th>business_id</th>\n",
       "      <th>date</th>\n",
       "      <th>review_id</th>\n",
       "      <th>stars</th>\n",
       "      <th>text</th>\n",
       "      <th>type</th>\n",
       "      <th>user_id</th>\n",
       "      <th>cool</th>\n",
       "      <th>useful</th>\n",
       "      <th>funny</th>\n",
       "    </tr>\n",
       "  </thead>\n",
       "  <tbody>\n",
       "    <tr>\n",
       "      <th>0</th>\n",
       "      <td> 9yKzy9PApeiPPOUJEtnvkg</td>\n",
       "      <td> 2011-01-26</td>\n",
       "      <td> fWKvX83p0-ka4JS3dc6E5A</td>\n",
       "      <td> 5</td>\n",
       "      <td> My wife took me here on my birthday for breakf...</td>\n",
       "      <td> review</td>\n",
       "      <td> rLtl8ZkDX5vH5nAx9C3q5Q</td>\n",
       "      <td> 2</td>\n",
       "      <td> 5</td>\n",
       "      <td> 0</td>\n",
       "    </tr>\n",
       "  </tbody>\n",
       "</table>\n",
       "</div>"
      ],
      "text/plain": [
       "              business_id        date               review_id  stars  \\\n",
       "0  9yKzy9PApeiPPOUJEtnvkg  2011-01-26  fWKvX83p0-ka4JS3dc6E5A      5   \n",
       "\n",
       "                                                text    type  \\\n",
       "0  My wife took me here on my birthday for breakf...  review   \n",
       "\n",
       "                  user_id  cool  useful  funny  \n",
       "0  rLtl8ZkDX5vH5nAx9C3q5Q     2       5      0  "
      ]
     },
     "execution_count": 4,
     "metadata": {},
     "output_type": "execute_result"
    }
   ],
   "source": [
    "df.head(1)"
   ]
  },
  {
   "cell_type": "markdown",
   "metadata": {},
   "source": [
    "There are 10 variables and 10,000 observations.\n",
    "\n",
    "The variables can be categorized into two types:\n",
    "\n",
    "identifier: \n",
    "- **business_id**\n",
    "- **date**\n",
    "- **review_id**\n",
    "- **type**\n",
    "- **user_id**\n",
    "\n",
    "qualitative:\n",
    "- **stars**\n",
    "- **cool**\n",
    "- **useful**\n",
    "- **funny **\n",
    "- **text**"
   ]
  },
  {
   "cell_type": "markdown",
   "metadata": {},
   "source": [
    "### Ordinal variables"
   ]
  },
  {
   "cell_type": "code",
   "execution_count": 5,
   "metadata": {
    "collapsed": false
   },
   "outputs": [
    {
     "data": {
      "text/html": [
       "<div style=\"max-height:1000px;max-width:1500px;overflow:auto;\">\n",
       "<table border=\"1\" class=\"dataframe\">\n",
       "  <thead>\n",
       "    <tr style=\"text-align: right;\">\n",
       "      <th></th>\n",
       "      <th>stars</th>\n",
       "      <th>cool</th>\n",
       "      <th>useful</th>\n",
       "      <th>funny</th>\n",
       "    </tr>\n",
       "  </thead>\n",
       "  <tbody>\n",
       "    <tr>\n",
       "      <th>count</th>\n",
       "      <td> 10000.000000</td>\n",
       "      <td> 10000.000000</td>\n",
       "      <td> 10000.000000</td>\n",
       "      <td> 10000.000000</td>\n",
       "    </tr>\n",
       "    <tr>\n",
       "      <th>mean</th>\n",
       "      <td>     3.777500</td>\n",
       "      <td>     0.876800</td>\n",
       "      <td>     1.409300</td>\n",
       "      <td>     0.701300</td>\n",
       "    </tr>\n",
       "    <tr>\n",
       "      <th>std</th>\n",
       "      <td>     1.214636</td>\n",
       "      <td>     2.067861</td>\n",
       "      <td>     2.336647</td>\n",
       "      <td>     1.907942</td>\n",
       "    </tr>\n",
       "    <tr>\n",
       "      <th>min</th>\n",
       "      <td>     1.000000</td>\n",
       "      <td>     0.000000</td>\n",
       "      <td>     0.000000</td>\n",
       "      <td>     0.000000</td>\n",
       "    </tr>\n",
       "    <tr>\n",
       "      <th>25%</th>\n",
       "      <td>     3.000000</td>\n",
       "      <td>     0.000000</td>\n",
       "      <td>     0.000000</td>\n",
       "      <td>     0.000000</td>\n",
       "    </tr>\n",
       "    <tr>\n",
       "      <th>50%</th>\n",
       "      <td>     4.000000</td>\n",
       "      <td>     0.000000</td>\n",
       "      <td>     1.000000</td>\n",
       "      <td>     0.000000</td>\n",
       "    </tr>\n",
       "    <tr>\n",
       "      <th>75%</th>\n",
       "      <td>     5.000000</td>\n",
       "      <td>     1.000000</td>\n",
       "      <td>     2.000000</td>\n",
       "      <td>     1.000000</td>\n",
       "    </tr>\n",
       "    <tr>\n",
       "      <th>max</th>\n",
       "      <td>     5.000000</td>\n",
       "      <td>    77.000000</td>\n",
       "      <td>    76.000000</td>\n",
       "      <td>    57.000000</td>\n",
       "    </tr>\n",
       "  </tbody>\n",
       "</table>\n",
       "</div>"
      ],
      "text/plain": [
       "              stars          cool        useful         funny\n",
       "count  10000.000000  10000.000000  10000.000000  10000.000000\n",
       "mean       3.777500      0.876800      1.409300      0.701300\n",
       "std        1.214636      2.067861      2.336647      1.907942\n",
       "min        1.000000      0.000000      0.000000      0.000000\n",
       "25%        3.000000      0.000000      0.000000      0.000000\n",
       "50%        4.000000      0.000000      1.000000      0.000000\n",
       "75%        5.000000      1.000000      2.000000      1.000000\n",
       "max        5.000000     77.000000     76.000000     57.000000"
      ]
     },
     "execution_count": 5,
     "metadata": {},
     "output_type": "execute_result"
    }
   ],
   "source": [
    "df.describe()"
   ]
  },
  {
   "cell_type": "markdown",
   "metadata": {},
   "source": [
    "### Stars\n",
    "\n",
    "The most important variable here, and what will be the response for training the model, is **stars**."
   ]
  },
  {
   "cell_type": "code",
   "execution_count": 6,
   "metadata": {
    "collapsed": false
   },
   "outputs": [
    {
     "data": {
      "text/plain": [
       "stars\n",
       "1         749\n",
       "2         927\n",
       "3        1461\n",
       "4        3526\n",
       "5        3337\n",
       "Name: stars, dtype: int64"
      ]
     },
     "execution_count": 6,
     "metadata": {},
     "output_type": "execute_result"
    }
   ],
   "source": [
    "# Aggregate df by stars and get the count.\n",
    "stars_count = df.groupby('stars').stars.count()\n",
    "stars_count"
   ]
  },
  {
   "cell_type": "code",
   "execution_count": 7,
   "metadata": {
    "collapsed": false
   },
   "outputs": [
    {
     "data": {
      "text/plain": [
       "<matplotlib.axes._subplots.AxesSubplot at 0x181c09b0>"
      ]
     },
     "execution_count": 7,
     "metadata": {},
     "output_type": "execute_result"
    },
    {
     "data": {
      "image/png": "[encoded data removed]",
      "text/plain": [
       "<matplotlib.figure.Figure at 0x18b4dba8>"
      ]
     },
     "metadata": {},
     "output_type": "display_data"
    }
   ],
   "source": [
    "sns.barplot(stars_count.index, stars_count.values)"
   ]
  },
  {
   "cell_type": "markdown",
   "metadata": {},
   "source": [
    "As shown above, the vast majority reviews have a high rating of 4 or 5 stars. "
   ]
  },
  {
   "cell_type": "markdown",
   "metadata": {},
   "source": [
    "###Who reviews the reviewers?\n",
    "\n",
    "After a user submits their star rating and written review for a restaurant, other readers who read the review have the option of labelling the review as funny, cool and useful. This goes against the normal \"like/unlike\" paradigm in order to encourage readers to write more interesting and detailed reviews. However, most reviews receive very little input from other users as shown in the figures below."
   ]
  },
  {
   "cell_type": "code",
   "execution_count": 8,
   "metadata": {
    "collapsed": false
   },
   "outputs": [
    {
     "data": {
      "text/plain": [
       "<matplotlib.axes._subplots.AxesSubplot at 0x1b470908>"
      ]
     },
     "execution_count": 8,
     "metadata": {},
     "output_type": "execute_result"
    },
    {
     "data": {
      "image/png": "[encoded data removed]",
      "text/plain": [
       "<matplotlib.figure.Figure at 0x1b464400>"
      ]
     },
     "metadata": {},
     "output_type": "display_data"
    }
   ],
   "source": [
    "df.cool.hist(bins=50)"
   ]
  },
  {
   "cell_type": "code",
   "execution_count": 9,
   "metadata": {
    "collapsed": false
   },
   "outputs": [
    {
     "data": {
      "text/plain": [
       "<matplotlib.axes._subplots.AxesSubplot at 0x1b9fc400>"
      ]
     },
     "execution_count": 9,
     "metadata": {},
     "output_type": "execute_result"
    },
    {
     "data": {
      "image/png": "[encoded data removed]",
      "text/plain": [
       "<matplotlib.figure.Figure at 0x1ba091d0>"
      ]
     },
     "metadata": {},
     "output_type": "display_data"
    }
   ],
   "source": [
    "df.useful.hist(bins=50)"
   ]
  },
  {
   "cell_type": "code",
   "execution_count": 10,
   "metadata": {
    "collapsed": false
   },
   "outputs": [
    {
     "data": {
      "text/plain": [
       "<matplotlib.axes._subplots.AxesSubplot at 0x1ba096a0>"
      ]
     },
     "execution_count": 10,
     "metadata": {},
     "output_type": "execute_result"
    },
    {
     "data": {
      "image/png": "[encoded data removed]",
      "text/plain": [
       "<matplotlib.figure.Figure at 0x1be382e8>"
      ]
     },
     "metadata": {},
     "output_type": "display_data"
    }
   ],
   "source": [
    "df.funny.hist(bins=50)"
   ]
  },
  {
   "cell_type": "markdown",
   "metadata": {},
   "source": [
    "The goal of this project is to predict stars rating based on the text so these variables aren't very relevant and will not be considered for the model.\n",
    "\n",
    "Finally, for the sake of simplicity this analysis will only use 1 star and 5 star reviews."
   ]
  },
  {
   "cell_type": "code",
   "execution_count": 11,
   "metadata": {
    "collapsed": true
   },
   "outputs": [],
   "source": [
    "# filter the DataFrame using an OR condition\n",
    "df = df[(df.stars==5) | (df.stars==1)]"
   ]
  },
  {
   "cell_type": "markdown",
   "metadata": {},
   "source": [
    "## Splitting the data\n"
   ]
  },
  {
   "cell_type": "code",
   "execution_count": 12,
   "metadata": {
    "collapsed": false
   },
   "outputs": [],
   "source": [
    "# Feature and response.\n",
    "X = df.text\n",
    "y = df.stars"
   ]
  },
  {
   "cell_type": "code",
   "execution_count": 13,
   "metadata": {
    "collapsed": false
   },
   "outputs": [
    {
     "data": {
      "text/plain": [
       "1     749\n",
       "5    3337\n",
       "dtype: int64"
      ]
     },
     "execution_count": 13,
     "metadata": {},
     "output_type": "execute_result"
    }
   ],
   "source": [
    "# Check that y contains 5 different classes.\n",
    "y.value_counts().sort_index()"
   ]
  },
  {
   "cell_type": "code",
   "execution_count": 14,
   "metadata": {
    "collapsed": true
   },
   "outputs": [],
   "source": [
    "# Split X and y into training and testing sets.\n",
    "X_train, X_test, y_train, y_test = train_test_split(X, y, random_state=1)"
   ]
  },
  {
   "cell_type": "code",
   "execution_count": 15,
   "metadata": {
    "collapsed": false
   },
   "outputs": [],
   "source": [
    "# Instantiate CountVectorizer.\n",
    "vect = CountVectorizer()"
   ]
  },
  {
   "cell_type": "code",
   "execution_count": 16,
   "metadata": {
    "collapsed": false
   },
   "outputs": [
    {
     "data": {
      "text/plain": [
       "(3064, 16825)"
      ]
     },
     "execution_count": 16,
     "metadata": {},
     "output_type": "execute_result"
    }
   ],
   "source": [
    "# Fit and transform X_train into X_train_dtm.\n",
    "X_train_dtm = vect.fit_transform(X_train)\n",
    "X_train_dtm.shape"
   ]
  },
  {
   "cell_type": "code",
   "execution_count": 17,
   "metadata": {
    "collapsed": false
   },
   "outputs": [
    {
     "data": {
      "text/plain": [
       "(1022, 16825)"
      ]
     },
     "execution_count": 17,
     "metadata": {},
     "output_type": "execute_result"
    }
   ],
   "source": [
    "# Transform X_test into X_test_dtm\n",
    "X_test_dtm = vect.transform(X_test)\n",
    "X_test_dtm.shape"
   ]
  },
  {
   "cell_type": "markdown",
   "metadata": {},
   "source": [
    "### Model creation and prediction"
   ]
  },
  {
   "cell_type": "code",
   "execution_count": 18,
   "metadata": {
    "collapsed": true
   },
   "outputs": [],
   "source": [
    "# Instantiate MultinomialNB.\n",
    "nb = MultinomialNB()\n",
    "\n",
    "# Train the model using X_train_dtm.\n",
    "nb.fit(X_train_dtm, y_train)\n",
    "\n",
    "# Make class predictions for X_test_dtm.\n",
    "y_pred_class = nb.predict(X_test_dtm)"
   ]
  },
  {
   "cell_type": "markdown",
   "metadata": {},
   "source": [
    "# Accuracy"
   ]
  },
  {
   "cell_type": "code",
   "execution_count": 19,
   "metadata": {
    "collapsed": false
   },
   "outputs": [
    {
     "data": {
      "text/plain": [
       "0.91878669275929548"
      ]
     },
     "execution_count": 19,
     "metadata": {},
     "output_type": "execute_result"
    }
   ],
   "source": [
    "# Calculate accuracy of class predictions.\n",
    "metrics.accuracy_score(y_test, y_pred_class)"
   ]
  },
  {
   "cell_type": "code",
   "execution_count": 20,
   "metadata": {
    "collapsed": false
   },
   "outputs": [
    {
     "data": {
      "text/plain": [
       "array([[126,  58],\n",
       "       [ 25, 813]])"
      ]
     },
     "execution_count": 20,
     "metadata": {},
     "output_type": "execute_result"
    }
   ],
   "source": [
    "# Confusion matrix.\n",
    "metrics.confusion_matrix(y_test, y_pred_class)"
   ]
  },
  {
   "cell_type": "markdown",
   "metadata": {},
   "source": [
    "An accuracy of 91.88% was achieved from the model. However to properly judge this metric the null accuracy needs to be considered. The null accuracy is when a model chooses the most common class for each prediction and is the baseline for comparison. Class 5 is the most common class here with 3337 instances. "
   ]
  },
  {
   "cell_type": "code",
   "execution_count": 21,
   "metadata": {
    "collapsed": false
   },
   "outputs": [
    {
     "data": {
      "text/plain": [
       "5    3337\n",
       "1     749\n",
       "dtype: int64"
      ]
     },
     "execution_count": 21,
     "metadata": {},
     "output_type": "execute_result"
    }
   ],
   "source": [
    "y.value_counts()"
   ]
  },
  {
   "cell_type": "code",
   "execution_count": 22,
   "metadata": {
    "collapsed": false
   },
   "outputs": [
    {
     "data": {
      "text/plain": [
       "81.669114047968677"
      ]
     },
     "execution_count": 22,
     "metadata": {},
     "output_type": "execute_result"
    }
   ],
   "source": [
    "# Null accuracy %.\n",
    "(y.value_counts()[5] * 100.0)/y.shape[0]"
   ]
  },
  {
   "cell_type": "code",
   "execution_count": 23,
   "metadata": {
    "collapsed": false
   },
   "outputs": [
    {
     "data": {
      "text/plain": [
       "array([[126,  58],\n",
       "       [ 25, 813]])"
      ]
     },
     "execution_count": 23,
     "metadata": {},
     "output_type": "execute_result"
    }
   ],
   "source": [
    "# Print the confusion matrix.\n",
    "metrics.confusion_matrix(y_test, y_pred_class)"
   ]
  },
  {
   "cell_type": "markdown",
   "metadata": {},
   "source": [
    "The model is much more likely to make a false negative (1 star rating incorrectly predicted as 5 star) than a false positive (5 star rating incorrectly predicted as 1 star). This can be quantified using **precision**."
   ]
  },
  {
   "cell_type": "code",
   "execution_count": 24,
   "metadata": {
    "collapsed": false
   },
   "outputs": [],
   "source": [
    "# Print the classification report.\n",
    "print(metrics.classification_report(y_test, y_pred_class))"
   ]
  },
  {
   "cell_type": "markdown",
   "metadata": {},
   "source": [
    "- **Precision** answers the question: \"When a given class is predicted, how often are those predictions correct?\"\n",
    "\n",
    "- **Recall** answers the question: \"When a given class is the true class, how often is that class predicted?\" \n",
    "\n",
    "- **F1 score** is a weighted average of precision and recall.\n",
    "\n",
    "- **Support** answers the question: \"How many observations exist for which a given class is the true class?\""
   ]
  },
  {
   "cell_type": "markdown",
   "metadata": {},
   "source": [
    "- Class 1 has low recall, meaning that the model has a hard time detecting the 1-star reviews, but high precision, meaning that when the model predicts a review is 1-star, it's usually correct.\n",
    "- Class 5 has very high recall and precision, probably because 5-star reviews have polarized language, and because the model has a lot of observations to learn from."
   ]
  },
  {
   "cell_type": "markdown",
   "metadata": {},
   "source": [
    "# Examples of misclassification"
   ]
  },
  {
   "cell_type": "code",
   "execution_count": 25,
   "metadata": {
    "collapsed": false
   },
   "outputs": [
    {
     "data": {
      "text/plain": [
       "\"I now consider myself an Arizonian. If you drive a lot on the 101 or 51 like I do, you'll get your fair share of chips on your windshield. You'll also have to replace a windshield like I had to do just recently. Apparently, chips and cracking windshields  is common in Arizona. In fact, I seem to recall my insurance agent telling me that insurance companies must provide this coverage in Arizona.\\r\\n\\r\\nI had a chip repaired about a year ago near the very bottom of the windshield. Just recently a small, very fine crack started traveling north on the windshield from the repaired chip (a different vendor repaired the chip). I called these guys over to my house and they said it was too long to fix, so they replaced the whole windshield the next day.\\r\\n\\r\\nWhat great service, they come out to your residence or place of business to repair or replace your windshield.\""
      ]
     },
     "execution_count": 25,
     "metadata": {},
     "output_type": "execute_result"
    }
   ],
   "source": [
    "# Example of a 5 star rating incorrectly predicted as 1 star by the model.\n",
    "false_positives = (y_test == 5) & (y_pred_class == 1)\n",
    "X_test[false_positives][0]"
   ]
  },
  {
   "cell_type": "markdown",
   "metadata": {},
   "source": [
    "While this review is definitely overall very positive, it's easy to see where a model can get tripped up. For example, words like \"overdue\" and \"shockingly\" are usually extremely negative. In this case, these words are used to describe things other than the service in question; this is something that could be factored into the model. For example the word \"shockingly\" is wrapped in quotation marks in the text. The model could discount this feature as it could indicate sarcasm, or it could be referencing another service. "
   ]
  },
  {
   "cell_type": "code",
   "execution_count": 26,
   "metadata": {
    "collapsed": false
   },
   "outputs": [
    {
     "data": {
      "text/plain": [
       "'This has to be the worst restaurant in terms of hygiene. Two of my friends had food -poisoning after having dinner here. The food is just unhealthy with tons of oil floating on the top of curries, and I am not sure if any health/hygiene code is followed here. \\r\\nThe service is poor and the information on its website is incorrect, the owner does not allow dine-in after 9 or 10 even though it says that the restaurant is open till 11. \\r\\n\\r\\nOne night I saw the owner cleaning the place without gloves and she was nice enough to give us a to-go parcel without cleaning her hands (great example to the servers!). I had a peek inside the kitchen when the door was ajar, and it definitely looked dirty.\\r\\n\\r\\nI have been a lot of hole-in-the-wall places around this restaurant, including Haji Baba, the Vietnamese place and others, but neither any of my friends nor I have fallen sick coz of the food. If you need a spicy-food fix, i strongly recommend you do not try this place, lest you want a visit to the doctor the very next day.'"
      ]
     },
     "execution_count": 26,
     "metadata": {},
     "output_type": "execute_result"
    }
   ],
   "source": [
    "# Example of a 1 star rating incorrectly predicted as 5 star by the model.\n",
    "false_negatives = (y_test == 1) & (y_pred_class == 5)\n",
    "X_test[false_negatives][0]"
   ]
  },
  {
   "cell_type": "markdown",
   "metadata": {
    "collapsed": true
   },
   "source": [
    "The model suffers from the same problem here. The reviewer blatently states that the service is 0 stars, but then references another service and showers that with praise. The model can't distinguish the subject of each sentiment and naiively predicts the rating incorrectly.\n",
    "\n",
    "Looking at these reviews it's clear why a false positive is more common than a false positive. A rating of 1 star will sometimes mention a superior service (\"don't go to A, B down the road is much better!\") whereas a 5 star rating will generally only discuss the service in question (\"A is amazing\")."
   ]
  },
  {
   "cell_type": "markdown",
   "metadata": {},
   "source": [
    "### Classification probabilities\n",
    "\n",
    "It's also possible to see how strong a model's prediciton is. Lets see how strongly the model classified the above examples."
   ]
  },
  {
   "cell_type": "code",
   "execution_count": 27,
   "metadata": {
    "collapsed": false
   },
   "outputs": [
    {
     "data": {
      "text/plain": [
       "array([ 0.99525708,  0.00474292])"
      ]
     },
     "execution_count": 27,
     "metadata": {},
     "output_type": "execute_result"
    }
   ],
   "source": [
    "# False positive example.\n",
    "nb.predict_proba(X_test_dtm)[false_positives][0]"
   ]
  },
  {
   "cell_type": "code",
   "execution_count": 28,
   "metadata": {
    "collapsed": false
   },
   "outputs": [
    {
     "data": {
      "text/plain": [
       "array([ 0.03410551,  0.96589449])"
      ]
     },
     "execution_count": 28,
     "metadata": {},
     "output_type": "execute_result"
    }
   ],
   "source": [
    "# False negative example.\n",
    "nb.predict_proba(X_test_dtm)[false_negatives][0]"
   ]
  },
  {
   "cell_type": "markdown",
   "metadata": {},
   "source": [
    "Despite the mix of positive and negative terms in both of the above examples, the model decisively predicted the classes incorrectly."
   ]
  },
  {
   "cell_type": "code",
   "execution_count": 29,
   "metadata": {
    "collapsed": false
   },
   "outputs": [
    {
     "data": {
      "text/plain": [
       "array([  1.00000000e+00,   9.99759874e-01,   1.00000000e+00, ...,\n",
       "         1.00000000e+00,   1.05200807e-19,   9.99915316e-01])"
      ]
     },
     "execution_count": 29,
     "metadata": {},
     "output_type": "execute_result"
    }
   ],
   "source": [
    "# Calculate predicted probabilities for X_test_dtm.\n",
    "y_pred_prob = nb.predict_proba(X_test_dtm)[:, 1]\n",
    "y_pred_prob"
   ]
  },
  {
   "cell_type": "markdown",
   "metadata": {},
   "source": [
    "# Calculating the tokens most predictive of a 5 star review"
   ]
  },
  {
   "cell_type": "code",
   "execution_count": 30,
   "metadata": {
    "collapsed": false
   },
   "outputs": [
    {
     "data": {
      "text/plain": [
       "16825"
      ]
     },
     "execution_count": 30,
     "metadata": {},
     "output_type": "execute_result"
    }
   ],
   "source": [
    "# Store the vocabulary of X_train.\n",
    "X_train_tokens = vect.get_feature_names()\n",
    "len(X_train_tokens)"
   ]
  },
  {
   "cell_type": "code",
   "execution_count": 31,
   "metadata": {
    "collapsed": false
   },
   "outputs": [
    {
     "data": {
      "text/plain": [
       "(2L, 16825L)"
      ]
     },
     "execution_count": 31,
     "metadata": {},
     "output_type": "execute_result"
    }
   ],
   "source": [
    "# The model's first row is one-star reviews, second row is five-star reviews\n",
    "nb.feature_count_.shape"
   ]
  },
  {
   "cell_type": "code",
   "execution_count": 32,
   "metadata": {
    "collapsed": false
   },
   "outputs": [
    {
     "data": {
      "text/plain": [
       "array([[ 26.,   4.,   1., ...,   0.,   0.,   0.],\n",
       "       [ 39.,   5.,   0., ...,   1.,   1.,   1.]])"
      ]
     },
     "execution_count": 32,
     "metadata": {},
     "output_type": "execute_result"
    }
   ],
   "source": [
    "nb.feature_count_"
   ]
  },
  {
   "cell_type": "code",
   "execution_count": 33,
   "metadata": {
    "collapsed": true
   },
   "outputs": [],
   "source": [
    "# Store the number of times each token appears across each class.\n",
    "one_star_token_count = nb.feature_count_[0, :]\n",
    "five_star_token_count = nb.feature_count_[1, :]"
   ]
  },
  {
   "cell_type": "code",
   "execution_count": 34,
   "metadata": {
    "collapsed": false
   },
   "outputs": [],
   "source": [
    "# Create a df of tokens with their separate one-star and five-star counts.\n",
    "df_tokens = pd.DataFrame({'token':X_train_tokens, 'one_star_token_count':one_star_token_count, \n",
    "                       'five_star_token_count':five_star_token_count}).set_index('token')"
   ]
  },
  {
   "cell_type": "code",
   "execution_count": 35,
   "metadata": {
    "collapsed": false
   },
   "outputs": [],
   "source": [
    "#df['total_count'] = df.five_star_token_count + df.one_star_token_count "
   ]
  },
  {
   "cell_type": "code",
   "execution_count": 36,
   "metadata": {
    "collapsed": false
   },
   "outputs": [],
   "source": [
    "# Add 1 to one-star and five-star counts to avoid dividing by 0.\n",
    "df_tokens['one_star_token_count'] = df_tokens.one_star_token_count + 1\n",
    "df_tokens['five_star_token_count'] = df_tokens.five_star_token_count + 1"
   ]
  },
  {
   "cell_type": "code",
   "execution_count": 37,
   "metadata": {
    "collapsed": true
   },
   "outputs": [],
   "source": [
    "df_tokens['total_count'] = df_tokens.five_star_token_count + df_tokens.one_star_token_count "
   ]
  },
  {
   "cell_type": "code",
   "execution_count": 38,
   "metadata": {
    "collapsed": false
   },
   "outputs": [
    {
     "data": {
      "text/plain": [
       "array([  565.,  2499.])"
      ]
     },
     "execution_count": 38,
     "metadata": {},
     "output_type": "execute_result"
    }
   ],
   "source": [
    "# first number is one-star reviews, second number is five-star reviews\n",
    "nb.class_count_"
   ]
  },
  {
   "cell_type": "code",
   "execution_count": 39,
   "metadata": {
    "collapsed": true
   },
   "outputs": [],
   "source": [
    "# convert the one-star and five-star counts into frequencies\n",
    "df_tokens['one_star_freq'] = df_tokens.one_star_token_count / nb.class_count_[0]\n",
    "df_tokens['five_star_freq'] = df_tokens.five_star_token_count / nb.class_count_[1]"
   ]
  },
  {
   "cell_type": "code",
   "execution_count": 40,
   "metadata": {
    "collapsed": false
   },
   "outputs": [],
   "source": [
    "# calculate the ratio of five-star to one-star for each token\n",
    "#df['ratio'] = df.five_star_token_count / df.one_star_token_count\n",
    "df_tokens['ratio'] = df_tokens.five_star_token_count / df_tokens.one_star_token_count"
   ]
  },
  {
   "cell_type": "code",
   "execution_count": 41,
   "metadata": {
    "collapsed": false
   },
   "outputs": [],
   "source": [
    "#df['ratio'] = df.ratio.apply(lambda x: math.log(x))"
   ]
  },
  {
   "cell_type": "code",
   "execution_count": 42,
   "metadata": {
    "collapsed": false
   },
   "outputs": [
    {
     "data": {
      "text/plain": [
       "['business_id',\n",
       " 'date',\n",
       " 'review_id',\n",
       " 'stars',\n",
       " 'text',\n",
       " 'type',\n",
       " 'user_id',\n",
       " 'cool',\n",
       " 'useful',\n",
       " 'funny']"
      ]
     },
     "execution_count": 42,
     "metadata": {},
     "output_type": "execute_result"
    }
   ],
   "source": [
    "list(df.columns.values)"
   ]
  },
  {
   "cell_type": "code",
   "execution_count": 43,
   "metadata": {
    "collapsed": false
   },
   "outputs": [],
   "source": [
    "df_tokens = df_tokens[['one_star_token_count',\n",
    " 'five_star_token_count',\n",
    " 'total_count',\n",
    " 'one_star_freq',\n",
    " 'five_star_freq',\n",
    " 'ratio']]"
   ]
  },
  {
   "cell_type": "code",
   "execution_count": 44,
   "metadata": {
    "collapsed": false
   },
   "outputs": [
    {
     "data": {
      "text/html": [
       "<div style=\"max-height:1000px;max-width:1500px;overflow:auto;\">\n",
       "<table border=\"1\" class=\"dataframe\">\n",
       "  <thead>\n",
       "    <tr style=\"text-align: right;\">\n",
       "      <th></th>\n",
       "      <th>one_star_token_count</th>\n",
       "      <th>five_star_token_count</th>\n",
       "      <th>total_count</th>\n",
       "      <th>one_star_freq</th>\n",
       "      <th>five_star_freq</th>\n",
       "      <th>ratio</th>\n",
       "    </tr>\n",
       "    <tr>\n",
       "      <th>token</th>\n",
       "      <th></th>\n",
       "      <th></th>\n",
       "      <th></th>\n",
       "      <th></th>\n",
       "      <th></th>\n",
       "      <th></th>\n",
       "    </tr>\n",
       "  </thead>\n",
       "  <tbody>\n",
       "    <tr>\n",
       "      <th>00</th>\n",
       "      <td> 27</td>\n",
       "      <td> 40</td>\n",
       "      <td> 67</td>\n",
       "      <td> 0.047788</td>\n",
       "      <td> 0.016006</td>\n",
       "      <td> 1.481481</td>\n",
       "    </tr>\n",
       "    <tr>\n",
       "      <th>000</th>\n",
       "      <td>  5</td>\n",
       "      <td>  6</td>\n",
       "      <td> 11</td>\n",
       "      <td> 0.008850</td>\n",
       "      <td> 0.002401</td>\n",
       "      <td> 1.200000</td>\n",
       "    </tr>\n",
       "    <tr>\n",
       "      <th>00a</th>\n",
       "      <td>  2</td>\n",
       "      <td>  1</td>\n",
       "      <td>  3</td>\n",
       "      <td> 0.003540</td>\n",
       "      <td> 0.000400</td>\n",
       "      <td> 0.500000</td>\n",
       "    </tr>\n",
       "  </tbody>\n",
       "</table>\n",
       "</div>"
      ],
      "text/plain": [
       "       one_star_token_count  five_star_token_count  total_count  \\\n",
       "token                                                             \n",
       "00                       27                     40           67   \n",
       "000                       5                      6           11   \n",
       "00a                       2                      1            3   \n",
       "\n",
       "       one_star_freq  five_star_freq     ratio  \n",
       "token                                           \n",
       "00          0.047788        0.016006  1.481481  \n",
       "000         0.008850        0.002401  1.200000  \n",
       "00a         0.003540        0.000400  0.500000  "
      ]
     },
     "execution_count": 44,
     "metadata": {},
     "output_type": "execute_result"
    }
   ],
   "source": [
    "df_tokens.head(3)"
   ]
  },
  {
   "cell_type": "code",
   "execution_count": 45,
   "metadata": {
    "collapsed": false,
    "scrolled": true
   },
   "outputs": [
    {
     "data": {
      "text/html": [
       "<div style=\"max-height:1000px;max-width:1500px;overflow:auto;\">\n",
       "<table border=\"1\" class=\"dataframe\">\n",
       "  <thead>\n",
       "    <tr style=\"text-align: right;\">\n",
       "      <th></th>\n",
       "      <th>one_star_token_count</th>\n",
       "      <th>five_star_token_count</th>\n",
       "      <th>total_count</th>\n",
       "      <th>one_star_freq</th>\n",
       "      <th>five_star_freq</th>\n",
       "      <th>ratio</th>\n",
       "    </tr>\n",
       "    <tr>\n",
       "      <th>token</th>\n",
       "      <th></th>\n",
       "      <th></th>\n",
       "      <th></th>\n",
       "      <th></th>\n",
       "      <th></th>\n",
       "      <th></th>\n",
       "    </tr>\n",
       "  </thead>\n",
       "  <tbody>\n",
       "    <tr>\n",
       "      <th>fantastic</th>\n",
       "      <td> 2</td>\n",
       "      <td> 193</td>\n",
       "      <td> 195</td>\n",
       "      <td> 0.003540</td>\n",
       "      <td> 0.077231</td>\n",
       "      <td> 96.500000</td>\n",
       "    </tr>\n",
       "    <tr>\n",
       "      <th>perfect</th>\n",
       "      <td> 3</td>\n",
       "      <td> 245</td>\n",
       "      <td> 248</td>\n",
       "      <td> 0.005310</td>\n",
       "      <td> 0.098039</td>\n",
       "      <td> 81.666667</td>\n",
       "    </tr>\n",
       "    <tr>\n",
       "      <th>yum</th>\n",
       "      <td> 1</td>\n",
       "      <td>  62</td>\n",
       "      <td>  63</td>\n",
       "      <td> 0.001770</td>\n",
       "      <td> 0.024810</td>\n",
       "      <td> 62.000000</td>\n",
       "    </tr>\n",
       "    <tr>\n",
       "      <th>favorite</th>\n",
       "      <td> 7</td>\n",
       "      <td> 345</td>\n",
       "      <td> 352</td>\n",
       "      <td> 0.012389</td>\n",
       "      <td> 0.138055</td>\n",
       "      <td> 49.285714</td>\n",
       "    </tr>\n",
       "    <tr>\n",
       "      <th>outstanding</th>\n",
       "      <td> 1</td>\n",
       "      <td>  49</td>\n",
       "      <td>  50</td>\n",
       "      <td> 0.001770</td>\n",
       "      <td> 0.019608</td>\n",
       "      <td> 49.000000</td>\n",
       "    </tr>\n",
       "  </tbody>\n",
       "</table>\n",
       "</div>"
      ],
      "text/plain": [
       "             one_star_token_count  five_star_token_count  total_count  \\\n",
       "token                                                                   \n",
       "fantastic                       2                    193          195   \n",
       "perfect                         3                    245          248   \n",
       "yum                             1                     62           63   \n",
       "favorite                        7                    345          352   \n",
       "outstanding                     1                     49           50   \n",
       "\n",
       "             one_star_freq  five_star_freq      ratio  \n",
       "token                                                  \n",
       "fantastic         0.003540        0.077231  96.500000  \n",
       "perfect           0.005310        0.098039  81.666667  \n",
       "yum               0.001770        0.024810  62.000000  \n",
       "favorite          0.012389        0.138055  49.285714  \n",
       "outstanding       0.001770        0.019608  49.000000  "
      ]
     },
     "execution_count": 45,
     "metadata": {},
     "output_type": "execute_result"
    }
   ],
   "source": [
    "# Sort the DataFrame by five_star_ratio (descending order), and examine the first 10 rows.\n",
    "df_tokens.sort('ratio', ascending=False).head(5)"
   ]
  },
  {
   "cell_type": "code",
   "execution_count": 46,
   "metadata": {
    "collapsed": false
   },
   "outputs": [
    {
     "data": {
      "text/html": [
       "<div style=\"max-height:1000px;max-width:1500px;overflow:auto;\">\n",
       "<table border=\"1\" class=\"dataframe\">\n",
       "  <thead>\n",
       "    <tr style=\"text-align: right;\">\n",
       "      <th></th>\n",
       "      <th>one_star_token_count</th>\n",
       "      <th>five_star_token_count</th>\n",
       "      <th>total_count</th>\n",
       "      <th>one_star_freq</th>\n",
       "      <th>five_star_freq</th>\n",
       "      <th>ratio</th>\n",
       "    </tr>\n",
       "    <tr>\n",
       "      <th>token</th>\n",
       "      <th></th>\n",
       "      <th></th>\n",
       "      <th></th>\n",
       "      <th></th>\n",
       "      <th></th>\n",
       "      <th></th>\n",
       "    </tr>\n",
       "  </thead>\n",
       "  <tbody>\n",
       "    <tr>\n",
       "      <th>staffperson</th>\n",
       "      <td> 17</td>\n",
       "      <td> 1</td>\n",
       "      <td> 18</td>\n",
       "      <td> 0.030088</td>\n",
       "      <td> 0.0004</td>\n",
       "      <td> 0.058824</td>\n",
       "    </tr>\n",
       "    <tr>\n",
       "      <th>refused</th>\n",
       "      <td> 14</td>\n",
       "      <td> 1</td>\n",
       "      <td> 15</td>\n",
       "      <td> 0.024779</td>\n",
       "      <td> 0.0004</td>\n",
       "      <td> 0.071429</td>\n",
       "    </tr>\n",
       "    <tr>\n",
       "      <th>disgusting</th>\n",
       "      <td> 24</td>\n",
       "      <td> 2</td>\n",
       "      <td> 26</td>\n",
       "      <td> 0.042478</td>\n",
       "      <td> 0.0008</td>\n",
       "      <td> 0.083333</td>\n",
       "    </tr>\n",
       "    <tr>\n",
       "      <th>filthy</th>\n",
       "      <td> 11</td>\n",
       "      <td> 1</td>\n",
       "      <td> 12</td>\n",
       "      <td> 0.019469</td>\n",
       "      <td> 0.0004</td>\n",
       "      <td> 0.090909</td>\n",
       "    </tr>\n",
       "    <tr>\n",
       "      <th>unprofessional</th>\n",
       "      <td>  9</td>\n",
       "      <td> 1</td>\n",
       "      <td> 10</td>\n",
       "      <td> 0.015929</td>\n",
       "      <td> 0.0004</td>\n",
       "      <td> 0.111111</td>\n",
       "    </tr>\n",
       "  </tbody>\n",
       "</table>\n",
       "</div>"
      ],
      "text/plain": [
       "                one_star_token_count  five_star_token_count  total_count  \\\n",
       "token                                                                      \n",
       "staffperson                       17                      1           18   \n",
       "refused                           14                      1           15   \n",
       "disgusting                        24                      2           26   \n",
       "filthy                            11                      1           12   \n",
       "unprofessional                     9                      1           10   \n",
       "\n",
       "                one_star_freq  five_star_freq     ratio  \n",
       "token                                                    \n",
       "staffperson          0.030088          0.0004  0.058824  \n",
       "refused              0.024779          0.0004  0.071429  \n",
       "disgusting           0.042478          0.0008  0.083333  \n",
       "filthy               0.019469          0.0004  0.090909  \n",
       "unprofessional       0.015929          0.0004  0.111111  "
      ]
     },
     "execution_count": 46,
     "metadata": {},
     "output_type": "execute_result"
    }
   ],
   "source": [
    "# Sort the DataFrame by five_star_ratio (ascending order), and examine the first 10 rows\n",
    "df_tokens.sort('ratio', ascending=True).head(5)"
   ]
  },
  {
   "cell_type": "code",
   "execution_count": 47,
   "metadata": {
    "collapsed": false
   },
   "outputs": [
    {
     "data": {
      "text/html": [
       "<div style=\"max-height:1000px;max-width:1500px;overflow:auto;\">\n",
       "<table border=\"1\" class=\"dataframe\">\n",
       "  <thead>\n",
       "    <tr style=\"text-align: right;\">\n",
       "      <th></th>\n",
       "      <th>one_star_token_count</th>\n",
       "      <th>five_star_token_count</th>\n",
       "      <th>total_count</th>\n",
       "      <th>one_star_freq</th>\n",
       "      <th>five_star_freq</th>\n",
       "      <th>ratio</th>\n",
       "    </tr>\n",
       "    <tr>\n",
       "      <th>token</th>\n",
       "      <th></th>\n",
       "      <th></th>\n",
       "      <th></th>\n",
       "      <th></th>\n",
       "      <th></th>\n",
       "      <th></th>\n",
       "    </tr>\n",
       "  </thead>\n",
       "  <tbody>\n",
       "    <tr>\n",
       "      <th>the</th>\n",
       "      <td> 4176</td>\n",
       "      <td> 14009</td>\n",
       "      <td> 18185</td>\n",
       "      <td> 7.391150</td>\n",
       "      <td> 5.605842</td>\n",
       "      <td> 3.354646</td>\n",
       "    </tr>\n",
       "    <tr>\n",
       "      <th>and</th>\n",
       "      <td> 2660</td>\n",
       "      <td> 10430</td>\n",
       "      <td> 13090</td>\n",
       "      <td> 4.707965</td>\n",
       "      <td> 4.173669</td>\n",
       "      <td> 3.921053</td>\n",
       "    </tr>\n",
       "    <tr>\n",
       "      <th>to</th>\n",
       "      <td> 2410</td>\n",
       "      <td>  6334</td>\n",
       "      <td>  8744</td>\n",
       "      <td> 4.265487</td>\n",
       "      <td> 2.534614</td>\n",
       "      <td> 2.628216</td>\n",
       "    </tr>\n",
       "    <tr>\n",
       "      <th>of</th>\n",
       "      <td> 1295</td>\n",
       "      <td>  4558</td>\n",
       "      <td>  5853</td>\n",
       "      <td> 2.292035</td>\n",
       "      <td> 1.823930</td>\n",
       "      <td> 3.519691</td>\n",
       "    </tr>\n",
       "    <tr>\n",
       "      <th>it</th>\n",
       "      <td> 1329</td>\n",
       "      <td>  4260</td>\n",
       "      <td>  5589</td>\n",
       "      <td> 2.352212</td>\n",
       "      <td> 1.704682</td>\n",
       "      <td> 3.205418</td>\n",
       "    </tr>\n",
       "    <tr>\n",
       "      <th>is</th>\n",
       "      <td>  771</td>\n",
       "      <td>  4391</td>\n",
       "      <td>  5162</td>\n",
       "      <td> 1.364602</td>\n",
       "      <td> 1.757103</td>\n",
       "      <td> 5.695201</td>\n",
       "    </tr>\n",
       "    <tr>\n",
       "      <th>was</th>\n",
       "      <td> 1485</td>\n",
       "      <td>  3535</td>\n",
       "      <td>  5020</td>\n",
       "      <td> 2.628319</td>\n",
       "      <td> 1.414566</td>\n",
       "      <td> 2.380471</td>\n",
       "    </tr>\n",
       "    <tr>\n",
       "      <th>in</th>\n",
       "      <td>  942</td>\n",
       "      <td>  3487</td>\n",
       "      <td>  4429</td>\n",
       "      <td> 1.667257</td>\n",
       "      <td> 1.395358</td>\n",
       "      <td> 3.701699</td>\n",
       "    </tr>\n",
       "    <tr>\n",
       "      <th>for</th>\n",
       "      <td>  971</td>\n",
       "      <td>  3316</td>\n",
       "      <td>  4287</td>\n",
       "      <td> 1.718584</td>\n",
       "      <td> 1.326931</td>\n",
       "      <td> 3.415036</td>\n",
       "    </tr>\n",
       "    <tr>\n",
       "      <th>that</th>\n",
       "      <td>  959</td>\n",
       "      <td>  2592</td>\n",
       "      <td>  3551</td>\n",
       "      <td> 1.697345</td>\n",
       "      <td> 1.037215</td>\n",
       "      <td> 2.702815</td>\n",
       "    </tr>\n",
       "  </tbody>\n",
       "</table>\n",
       "</div>"
      ],
      "text/plain": [
       "       one_star_token_count  five_star_token_count  total_count  \\\n",
       "token                                                             \n",
       "the                    4176                  14009        18185   \n",
       "and                    2660                  10430        13090   \n",
       "to                     2410                   6334         8744   \n",
       "of                     1295                   4558         5853   \n",
       "it                     1329                   4260         5589   \n",
       "is                      771                   4391         5162   \n",
       "was                    1485                   3535         5020   \n",
       "in                      942                   3487         4429   \n",
       "for                     971                   3316         4287   \n",
       "that                    959                   2592         3551   \n",
       "\n",
       "       one_star_freq  five_star_freq     ratio  \n",
       "token                                           \n",
       "the         7.391150        5.605842  3.354646  \n",
       "and         4.707965        4.173669  3.921053  \n",
       "to          4.265487        2.534614  2.628216  \n",
       "of          2.292035        1.823930  3.519691  \n",
       "it          2.352212        1.704682  3.205418  \n",
       "is          1.364602        1.757103  5.695201  \n",
       "was         2.628319        1.414566  2.380471  \n",
       "in          1.667257        1.395358  3.701699  \n",
       "for         1.718584        1.326931  3.415036  \n",
       "that        1.697345        1.037215  2.702815  "
      ]
     },
     "execution_count": 47,
     "metadata": {},
     "output_type": "execute_result"
    }
   ],
   "source": [
    "# Sort the DataFrame by five_star_ratio (ascending order), and examine the first 10 rows\n",
    "df_tokens.sort('total_count', ascending=False).head(10)"
   ]
  },
  {
   "cell_type": "code",
   "execution_count": 48,
   "metadata": {
    "collapsed": false
   },
   "outputs": [
    {
     "data": {
      "text/html": [
       "<div style=\"max-height:1000px;max-width:1500px;overflow:auto;\">\n",
       "<table border=\"1\" class=\"dataframe\">\n",
       "  <thead>\n",
       "    <tr style=\"text-align: right;\">\n",
       "      <th></th>\n",
       "      <th>one_star_token_count</th>\n",
       "      <th>five_star_token_count</th>\n",
       "      <th>total_count</th>\n",
       "      <th>one_star_freq</th>\n",
       "      <th>five_star_freq</th>\n",
       "      <th>ratio</th>\n",
       "    </tr>\n",
       "  </thead>\n",
       "  <tbody>\n",
       "    <tr>\n",
       "      <th>count</th>\n",
       "      <td> 16825.000000</td>\n",
       "      <td> 16825.000000</td>\n",
       "      <td> 16825.000000</td>\n",
       "      <td> 16825.000000</td>\n",
       "      <td> 16825.000000</td>\n",
       "      <td> 16825.000000</td>\n",
       "    </tr>\n",
       "    <tr>\n",
       "      <th>mean</th>\n",
       "      <td>     5.863655</td>\n",
       "      <td>    17.071204</td>\n",
       "      <td>    22.934859</td>\n",
       "      <td>     0.010378</td>\n",
       "      <td>     0.006831</td>\n",
       "      <td>     2.749364</td>\n",
       "    </tr>\n",
       "    <tr>\n",
       "      <th>std</th>\n",
       "      <td>    54.511846</td>\n",
       "      <td>   181.599432</td>\n",
       "      <td>   235.073652</td>\n",
       "      <td>     0.096481</td>\n",
       "      <td>     0.072669</td>\n",
       "      <td>     3.051345</td>\n",
       "    </tr>\n",
       "    <tr>\n",
       "      <th>min</th>\n",
       "      <td>     1.000000</td>\n",
       "      <td>     1.000000</td>\n",
       "      <td>     3.000000</td>\n",
       "      <td>     0.001770</td>\n",
       "      <td>     0.000400</td>\n",
       "      <td>     0.058824</td>\n",
       "    </tr>\n",
       "    <tr>\n",
       "      <th>25%</th>\n",
       "      <td>     1.000000</td>\n",
       "      <td>     2.000000</td>\n",
       "      <td>     3.000000</td>\n",
       "      <td>     0.001770</td>\n",
       "      <td>     0.000800</td>\n",
       "      <td>     1.500000</td>\n",
       "    </tr>\n",
       "    <tr>\n",
       "      <th>50%</th>\n",
       "      <td>     1.000000</td>\n",
       "      <td>     2.000000</td>\n",
       "      <td>     4.000000</td>\n",
       "      <td>     0.001770</td>\n",
       "      <td>     0.000800</td>\n",
       "      <td>     2.000000</td>\n",
       "    </tr>\n",
       "    <tr>\n",
       "      <th>75%</th>\n",
       "      <td>     2.000000</td>\n",
       "      <td>     5.000000</td>\n",
       "      <td>     7.000000</td>\n",
       "      <td>     0.003540</td>\n",
       "      <td>     0.002001</td>\n",
       "      <td>     3.000000</td>\n",
       "    </tr>\n",
       "    <tr>\n",
       "      <th>max</th>\n",
       "      <td>  4176.000000</td>\n",
       "      <td> 14009.000000</td>\n",
       "      <td> 18185.000000</td>\n",
       "      <td>     7.391150</td>\n",
       "      <td>     5.605842</td>\n",
       "      <td>    96.500000</td>\n",
       "    </tr>\n",
       "  </tbody>\n",
       "</table>\n",
       "</div>"
      ],
      "text/plain": [
       "       one_star_token_count  five_star_token_count   total_count  \\\n",
       "count          16825.000000           16825.000000  16825.000000   \n",
       "mean               5.863655              17.071204     22.934859   \n",
       "std               54.511846             181.599432    235.073652   \n",
       "min                1.000000               1.000000      3.000000   \n",
       "25%                1.000000               2.000000      3.000000   \n",
       "50%                1.000000               2.000000      4.000000   \n",
       "75%                2.000000               5.000000      7.000000   \n",
       "max             4176.000000           14009.000000  18185.000000   \n",
       "\n",
       "       one_star_freq  five_star_freq         ratio  \n",
       "count   16825.000000    16825.000000  16825.000000  \n",
       "mean        0.010378        0.006831      2.749364  \n",
       "std         0.096481        0.072669      3.051345  \n",
       "min         0.001770        0.000400      0.058824  \n",
       "25%         0.001770        0.000800      1.500000  \n",
       "50%         0.001770        0.000800      2.000000  \n",
       "75%         0.003540        0.002001      3.000000  \n",
       "max         7.391150        5.605842     96.500000  "
      ]
     },
     "execution_count": 48,
     "metadata": {},
     "output_type": "execute_result"
    }
   ],
   "source": [
    "df_tokens.describe()"
   ]
  },
  {
   "cell_type": "code",
   "execution_count": 49,
   "metadata": {
    "collapsed": false
   },
   "outputs": [
    {
     "data": {
      "text/html": [
       "<div style=\"max-height:1000px;max-width:1500px;overflow:auto;\">\n",
       "<table border=\"1\" class=\"dataframe\">\n",
       "  <thead>\n",
       "    <tr style=\"text-align: right;\">\n",
       "      <th></th>\n",
       "      <th>one_star_token_count</th>\n",
       "      <th>five_star_token_count</th>\n",
       "      <th>total_count</th>\n",
       "      <th>one_star_freq</th>\n",
       "      <th>five_star_freq</th>\n",
       "      <th>ratio</th>\n",
       "    </tr>\n",
       "    <tr>\n",
       "      <th>token</th>\n",
       "      <th></th>\n",
       "      <th></th>\n",
       "      <th></th>\n",
       "      <th></th>\n",
       "      <th></th>\n",
       "      <th></th>\n",
       "    </tr>\n",
       "  </thead>\n",
       "  <tbody>\n",
       "    <tr>\n",
       "      <th>00</th>\n",
       "      <td> 27</td>\n",
       "      <td> 40</td>\n",
       "      <td> 67</td>\n",
       "      <td> 0.047788</td>\n",
       "      <td> 0.016006</td>\n",
       "      <td> 1.481481</td>\n",
       "    </tr>\n",
       "    <tr>\n",
       "      <th>000</th>\n",
       "      <td>  5</td>\n",
       "      <td>  6</td>\n",
       "      <td> 11</td>\n",
       "      <td> 0.008850</td>\n",
       "      <td> 0.002401</td>\n",
       "      <td> 1.200000</td>\n",
       "    </tr>\n",
       "    <tr>\n",
       "      <th>00a</th>\n",
       "      <td>  2</td>\n",
       "      <td>  1</td>\n",
       "      <td>  3</td>\n",
       "      <td> 0.003540</td>\n",
       "      <td> 0.000400</td>\n",
       "      <td> 0.500000</td>\n",
       "    </tr>\n",
       "  </tbody>\n",
       "</table>\n",
       "</div>"
      ],
      "text/plain": [
       "       one_star_token_count  five_star_token_count  total_count  \\\n",
       "token                                                             \n",
       "00                       27                     40           67   \n",
       "000                       5                      6           11   \n",
       "00a                       2                      1            3   \n",
       "\n",
       "       one_star_freq  five_star_freq     ratio  \n",
       "token                                           \n",
       "00          0.047788        0.016006  1.481481  \n",
       "000         0.008850        0.002401  1.200000  \n",
       "00a         0.003540        0.000400  0.500000  "
      ]
     },
     "execution_count": 49,
     "metadata": {},
     "output_type": "execute_result"
    }
   ],
   "source": [
    "df_tokens.head(3)"
   ]
  },
  {
   "cell_type": "markdown",
   "metadata": {},
   "source": [
    "# Visualization"
   ]
  },
  {
   "cell_type": "code",
   "execution_count": 51,
   "metadata": {
    "collapsed": false
   },
   "outputs": [
    {
     "data": {
      "text/html": [
       "<div style=\"max-height:1000px;max-width:1500px;overflow:auto;\">\n",
       "<table border=\"1\" class=\"dataframe\">\n",
       "  <thead>\n",
       "    <tr style=\"text-align: right;\">\n",
       "      <th></th>\n",
       "      <th>one_star_token_count</th>\n",
       "      <th>five_star_token_count</th>\n",
       "      <th>total_count</th>\n",
       "      <th>one_star_freq</th>\n",
       "      <th>five_star_freq</th>\n",
       "      <th>ratio</th>\n",
       "    </tr>\n",
       "    <tr>\n",
       "      <th>token</th>\n",
       "      <th></th>\n",
       "      <th></th>\n",
       "      <th></th>\n",
       "      <th></th>\n",
       "      <th></th>\n",
       "      <th></th>\n",
       "    </tr>\n",
       "  </thead>\n",
       "  <tbody>\n",
       "    <tr>\n",
       "      <th>00</th>\n",
       "      <td> 27</td>\n",
       "      <td> 40</td>\n",
       "      <td> 67</td>\n",
       "      <td> 0.047788</td>\n",
       "      <td> 0.016006</td>\n",
       "      <td> 1.481481</td>\n",
       "    </tr>\n",
       "    <tr>\n",
       "      <th>000</th>\n",
       "      <td>  5</td>\n",
       "      <td>  6</td>\n",
       "      <td> 11</td>\n",
       "      <td> 0.008850</td>\n",
       "      <td> 0.002401</td>\n",
       "      <td> 1.200000</td>\n",
       "    </tr>\n",
       "    <tr>\n",
       "      <th>00a</th>\n",
       "      <td>  2</td>\n",
       "      <td>  1</td>\n",
       "      <td>  3</td>\n",
       "      <td> 0.003540</td>\n",
       "      <td> 0.000400</td>\n",
       "      <td> 0.500000</td>\n",
       "    </tr>\n",
       "  </tbody>\n",
       "</table>\n",
       "</div>"
      ],
      "text/plain": [
       "       one_star_token_count  five_star_token_count  total_count  \\\n",
       "token                                                             \n",
       "00                       27                     40           67   \n",
       "000                       5                      6           11   \n",
       "00a                       2                      1            3   \n",
       "\n",
       "       one_star_freq  five_star_freq     ratio  \n",
       "token                                           \n",
       "00          0.047788        0.016006  1.481481  \n",
       "000         0.008850        0.002401  1.200000  \n",
       "00a         0.003540        0.000400  0.500000  "
      ]
     },
     "execution_count": 51,
     "metadata": {},
     "output_type": "execute_result"
    }
   ],
   "source": [
    "df_tokens.head(3)"
   ]
  },
  {
   "cell_type": "code",
   "execution_count": 52,
   "metadata": {
    "collapsed": false
   },
   "outputs": [
    {
     "data": {
      "text/plain": [
       "<matplotlib.axes._subplots.AxesSubplot at 0x187d8630>"
      ]
     },
     "execution_count": 52,
     "metadata": {},
     "output_type": "execute_result"
    },
    {
     "data": {
      "image/png": "[encoded data removed]",
      "text/plain": [
       "<matplotlib.figure.Figure at 0x1ba27390>"
      ]
     },
     "metadata": {},
     "output_type": "display_data"
    }
   ],
   "source": [
    "df_tokens.plot(kind='scatter', x='ratio', y='total_count')"
   ]
  },
  {
   "cell_type": "code",
   "execution_count": null,
   "metadata": {
    "collapsed": false
   },
   "outputs": [],
   "source": []
  },
  {
   "cell_type": "markdown",
   "metadata": {},
   "source": [
    "# Export the data"
   ]
  },
  {
   "cell_type": "code",
   "execution_count": 53,
   "metadata": {
    "collapsed": false
   },
   "outputs": [
    {
     "data": {
      "text/html": [
       "<div style=\"max-height:1000px;max-width:1500px;overflow:auto;\">\n",
       "<table border=\"1\" class=\"dataframe\">\n",
       "  <thead>\n",
       "    <tr style=\"text-align: right;\">\n",
       "      <th></th>\n",
       "      <th>total_count</th>\n",
       "      <th>ratio</th>\n",
       "    </tr>\n",
       "    <tr>\n",
       "      <th>token</th>\n",
       "      <th></th>\n",
       "      <th></th>\n",
       "    </tr>\n",
       "  </thead>\n",
       "  <tbody>\n",
       "    <tr>\n",
       "      <th>00</th>\n",
       "      <td> 67</td>\n",
       "      <td> 1.481481</td>\n",
       "    </tr>\n",
       "    <tr>\n",
       "      <th>000</th>\n",
       "      <td> 11</td>\n",
       "      <td> 1.200000</td>\n",
       "    </tr>\n",
       "    <tr>\n",
       "      <th>00a</th>\n",
       "      <td>  3</td>\n",
       "      <td> 0.500000</td>\n",
       "    </tr>\n",
       "  </tbody>\n",
       "</table>\n",
       "</div>"
      ],
      "text/plain": [
       "       total_count     ratio\n",
       "token                       \n",
       "00              67  1.481481\n",
       "000             11  1.200000\n",
       "00a              3  0.500000"
      ]
     },
     "execution_count": 53,
     "metadata": {},
     "output_type": "execute_result"
    }
   ],
   "source": [
    "df_tokens = df_tokens[['total_count', 'ratio']]\n",
    "\n",
    "df_tokens.head(3)"
   ]
  },
  {
   "cell_type": "code",
   "execution_count": 54,
   "metadata": {
    "collapsed": false
   },
   "outputs": [],
   "source": [
    "df_tokens.to_csv('../data/viz_data.csv')"
   ]
  },
  {
   "cell_type": "markdown",
   "metadata": {
    "collapsed": true
   },
   "source": [
    "# Ideas\n",
    "\n",
    "http://ucb-205-keyword-demo.s3-website-us-west-2.amazonaws.com/#serves\n",
    "\n",
    "http://people.ischool.berkeley.edu/~sayantan.satpati/yelp/#portfolioModal1\n"
   ]
  },
  {
   "cell_type": "code",
   "execution_count": null,
   "metadata": {
    "collapsed": true
   },
   "outputs": [],
   "source": []
  }
 ],
 "metadata": {
  "kernelspec": {
   "display_name": "Python 2",
   "language": "python",
   "name": "python2"
  },
  "language_info": {
   "codemirror_mode": {
    "name": "ipython",
    "version": 2
   },
   "file_extension": ".py",
   "mimetype": "text/x-python",
   "name": "python",
   "nbconvert_exporter": "python",
   "pygments_lexer": "ipython2",
   "version": "2.7.9"
  }
 },
 "nbformat": 4,
 "nbformat_minor": 0
}
